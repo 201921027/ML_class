{
 "cells": [
  {
   "cell_type": "markdown",
   "id": "5d06c855",
   "metadata": {},
   "source": [
    "## 1. 로지스틱 회귀: 합격 여부 판단"
   ]
  },
  {
   "cell_type": "markdown",
   "id": "327907c2",
   "metadata": {},
   "source": [
    "### 1-1 합격여부 데이터 읽기"
   ]
  },
  {
   "cell_type": "code",
   "execution_count": 1,
   "id": "66cc01f8",
   "metadata": {
    "scrolled": true
   },
   "outputs": [
    {
     "name": "stdout",
     "output_type": "stream",
     "text": [
      "          ex1        ex2  Admitted\n",
      "0   34.623660  78.024693         0\n",
      "1   30.286711  43.894998         0\n",
      "2   35.847409  72.902198         0\n",
      "3   60.182599  86.308552         1\n",
      "4   79.032736  75.344376         1\n",
      "5   45.083277  56.316372         0\n",
      "6   61.106665  96.511426         1\n",
      "7   75.024746  46.554014         1\n",
      "8   76.098787  87.420570         1\n",
      "9   84.432820  43.533393         1\n",
      "10  95.861555  38.225278         0\n",
      "11  75.013658  30.603263         0\n",
      "12  82.307053  76.481963         1\n",
      "13  69.364589  97.718692         1\n",
      "14  39.538339  76.036811         0\n",
      "15  53.971052  89.207350         1\n",
      "16  69.070144  52.740470         1\n",
      "17  67.946855  46.678574         0\n",
      "18  70.661510  92.927138         1\n",
      "19  76.978784  47.575964         1\n",
      "20  67.372028  42.838438         0\n",
      "21  89.676776  65.799366         1\n",
      "22  50.534788  48.855812         0\n",
      "23  34.212061  44.209529         0\n",
      "24  77.924091  68.972360         1\n",
      "25  62.271014  69.954458         1\n",
      "26  80.190181  44.821629         1\n",
      "27  93.114389  38.800670         0\n",
      "28  61.830206  50.256108         0\n",
      "29  38.785804  64.995681         0\n",
      "..        ...        ...       ...\n",
      "70  32.722833  43.307173         0\n",
      "71  64.039320  78.031688         1\n",
      "72  72.346494  96.227593         1\n",
      "73  60.457886  73.094998         1\n",
      "74  58.840956  75.858448         1\n",
      "75  99.827858  72.369252         1\n",
      "76  47.264269  88.475865         1\n",
      "77  50.458160  75.809860         1\n",
      "78  60.455556  42.508409         0\n",
      "79  82.226662  42.719879         0\n",
      "80  88.913896  69.803789         1\n",
      "81  94.834507  45.694307         1\n",
      "82  67.319257  66.589353         1\n",
      "83  57.238706  59.514282         1\n",
      "84  80.366756  90.960148         1\n",
      "85  68.468522  85.594307         1\n",
      "86  42.075455  78.844786         0\n",
      "87  75.477702  90.424539         1\n",
      "88  78.635424  96.647427         1\n",
      "89  52.348004  60.769505         0\n",
      "90  94.094331  77.159105         1\n",
      "91  90.448551  87.508792         1\n",
      "92  55.482161  35.570703         0\n",
      "93  74.492692  84.845137         1\n",
      "94  89.845807  45.358284         1\n",
      "95  83.489163  48.380286         1\n",
      "96  42.261701  87.103851         1\n",
      "97  99.315009  68.775409         1\n",
      "98  55.340018  64.931938         1\n",
      "99  74.775893  89.529813         1\n",
      "\n",
      "[100 rows x 3 columns]\n"
     ]
    }
   ],
   "source": [
    "import numpy as np\n",
    "import os\n",
    "\n",
    "#(시험1점수),(시험2점수),(합격여부)\n",
    "import pandas as pd\n",
    "data= pd.read_csv(os.path.join('data', 'admit.txt'), names=['ex1', 'ex2', 'Admitted'])\n",
    "print data\n",
    "\n",
    "X= np.c_[data['ex1'], data['ex2']] #점수\n",
    "y= data[\"Admitted\"] #합격여부(1: admit, 0: not admit)\n",
    "m= len(data) #100"
   ]
  },
  {
   "cell_type": "code",
   "execution_count": 2,
   "id": "f5a05942",
   "metadata": {},
   "outputs": [
    {
     "name": "stdout",
     "output_type": "stream",
     "text": [
      "(100, 2) (100,)\n"
     ]
    }
   ],
   "source": [
    "#numpy array 형태로 변환 (m) -> (m, 1)\n",
    "#X= (np.array(X)).reshape(m, 2)\n",
    "#y= (np.array(y)).reshape(m, 1)\n",
    "print X.shape, y.shape"
   ]
  },
  {
   "cell_type": "markdown",
   "id": "2ac99dd2",
   "metadata": {},
   "source": [
    "### 1-2 그래프 그리기"
   ]
  },
  {
   "cell_type": "code",
   "execution_count": 4,
   "id": "da6aa54c",
   "metadata": {},
   "outputs": [
    {
     "name": "stdout",
     "output_type": "stream",
     "text": [
      "[3, 4, 6, 7, 8, 9, 12, 13, 15, 16, 18, 19, 21, 24, 25, 26, 30, 31, 33, 37, 40, 42, 46, 47, 48, 49, 50, 51, 52, 56, 58, 59, 60, 66, 68, 69, 71, 72, 73, 74, 75, 76, 77, 80, 81, 82, 83, 84, 85, 87, 88, 90, 91, 93, 94, 95, 96, 97, 98, 99]\n",
      "[0, 1, 2, 5, 10, 11, 14, 17, 20, 22, 23, 27, 28, 29, 32, 34, 35, 36, 38, 39, 41, 43, 44, 45, 53, 54, 55, 57, 61, 62, 63, 64, 65, 67, 70, 78, 79, 86, 89, 92]\n"
     ]
    }
   ],
   "source": [
    "#합격, 불합격 데이터 인덱스 찾기\n",
    "pos=[]\n",
    "neg=[]\n",
    "\n",
    "for i, val in enumerate(y):\n",
    "    if val==1:\n",
    "        pos.append(i)\n",
    "    else:\n",
    "        neg.append(i)\n",
    "print pos\n",
    "print neg"
   ]
  },
  {
   "cell_type": "code",
   "execution_count": 6,
   "id": "39d72a8f",
   "metadata": {},
   "outputs": [
    {
     "data": {
      "image/png": "[encoded data removed]",
      "text/plain": [
       "<Figure size 432x288 with 1 Axes>"
      ]
     },
     "metadata": {
      "needs_background": "light"
     },
     "output_type": "display_data"
    }
   ],
   "source": [
    "import matplotlib.pyplot as plt\n",
    "\n",
    "# X[:,1].reshape(-1): 한 줄로 피기 (m, ) -> (m)\n",
    "plt.plot(X[pos,0].reshape(-1), X[pos,1].reshape(-1), 'b+', label='Admitted')\n",
    "plt.plot(X[neg,0].reshape(-1), X[neg,1].reshape(-1), 'ro', label='Not admitted')\n",
    "plt.xlabel(\"Exam 1 score\")\n",
    "plt.ylabel(\"Exam 2 score\")\n",
    "plt.legend(loc= 'upper right')\n",
    "plt.show()"
   ]
  },
  {
   "cell_type": "markdown",
   "id": "bc6629d6",
   "metadata": {},
   "source": [
    "### 1-3 학습"
   ]
  },
  {
   "cell_type": "code",
   "execution_count": 9,
   "id": "b8b287c2",
   "metadata": {},
   "outputs": [
    {
     "data": {
      "text/plain": [
       "LogisticRegression(C=10, class_weight=None, dual=False, fit_intercept=True,\n",
       "          intercept_scaling=1, max_iter=100, multi_class='warn',\n",
       "          n_jobs=None, penalty='l2', random_state=None, solver='liblinear',\n",
       "          tol=0.0001, verbose=0, warm_start=False)"
      ]
     },
     "execution_count": 9,
     "metadata": {},
     "output_type": "execute_result"
    }
   ],
   "source": [
    "from sklearn.linear_model import LogisticRegression\n",
    "\n",
    "log_reg= LogisticRegression(solver='liblinear', C=10) # C: 클수록 규제 줄어듦\n",
    "log_reg.fit(X, y)"
   ]
  },
  {
   "cell_type": "code",
   "execution_count": 10,
   "id": "db4437b1",
   "metadata": {},
   "outputs": [
    {
     "data": {
      "text/plain": [
       "array([0, 1])"
      ]
     },
     "execution_count": 10,
     "metadata": {},
     "output_type": "execute_result"
    }
   ],
   "source": [
    "#exam1 30, exam2 70 -> 합격?/불합격?\n",
    "#exam1 50, exam2 90 -> 합격?/불합격?\n",
    "\n",
    "log_reg.predict([[30, 70],\n",
    "                [50, 90]])"
   ]
  },
  {
   "cell_type": "markdown",
   "id": "e9f4e78d",
   "metadata": {},
   "source": [
    "### 1-4 decision boundary"
   ]
  },
  {
   "cell_type": "code",
   "execution_count": 13,
   "id": "dd5fc76a",
   "metadata": {},
   "outputs": [
    {
     "data": {
      "image/png": "[encoded data removed]",
      "text/plain": [
       "<Figure size 432x288 with 1 Axes>"
      ]
     },
     "metadata": {},
     "output_type": "display_data"
    }
   ],
   "source": [
    "# Plot the decision boundary, For that, we will assign a color to each\n",
    "# point in the mesh [x_min, x_max]x[y_min, y_max]\n",
    "x_min, x_max= X[:, 0].min(), X[:, 0].max()\n",
    "y_min, y_max= X[:, 1].min(), X[:, 1].max()\n",
    "h= .2 #step size in the mesh\n",
    "xx, yy= np.meshgrid(np.arange(x_min, x_max, h), np.arange(y_min, y_max, h))\n",
    "Z= log_reg.predict(np.c_[xx.ravel(), yy.ravel()])\n",
    "\n",
    "# Put the result into a color plot\n",
    "Z= Z.reshape(xx.shape)\n",
    "plt.figure(1)\n",
    "plt.pcolormesh(xx, yy, Z, cmap=plt.cm.Paired)\n",
    "\n",
    "# Plot also the training points\n",
    "plt.plot(X[pos,0].reshape(-1), X[pos,1].reshape(-1), 'b+', label='Admitted')\n",
    "plt.plot(X[neg,0].reshape(-1), X[neg,1].reshape(-1), 'ro', label='Not admitted')\n",
    "plt.xlabel(\"Exam 1 score\")\n",
    "plt.ylabel(\"Exam 2 score\")\n",
    "plt.legend(loc= 'upper right')\n",
    "\n",
    "plt.xlim(xx.min(), xx.max())\n",
    "plt.ylim(yy.min(), yy.max())\n",
    "plt.xticks(())\n",
    "plt.yticks(())\n",
    "         \n",
    "plt.show()"
   ]
  },
  {
   "cell_type": "markdown",
   "id": "29a2a771",
   "metadata": {},
   "source": [
    "## 2. 로지스틱 회귀 + 정규화: 반도체 불량품 여부 판단"
   ]
  },
  {
   "cell_type": "markdown",
   "id": "ed1d661e",
   "metadata": {},
   "source": [
    "### 2-1 불량여부 데이터 읽기"
   ]
  },
  {
   "cell_type": "code",
   "execution_count": 14,
   "id": "0baa2aaa",
   "metadata": {
    "scrolled": true
   },
   "outputs": [
    {
     "name": "stdout",
     "output_type": "stream",
     "text": [
      "           t1        t2  Passed\n",
      "0    0.051267  0.699560       1\n",
      "1   -0.092742  0.684940       1\n",
      "2   -0.213710  0.692250       1\n",
      "3   -0.375000  0.502190       1\n",
      "4   -0.513250  0.465640       1\n",
      "5   -0.524770  0.209800       1\n",
      "6   -0.398040  0.034357       1\n",
      "7   -0.305880 -0.192250       1\n",
      "8    0.016705 -0.404240       1\n",
      "9    0.131910 -0.513890       1\n",
      "10   0.385370 -0.565060       1\n",
      "11   0.529380 -0.521200       1\n",
      "12   0.638820 -0.243420       1\n",
      "13   0.736750 -0.184940       1\n",
      "14   0.546660  0.487570       1\n",
      "15   0.322000  0.582600       1\n",
      "16   0.166470  0.538740       1\n",
      "17  -0.046659  0.816520       1\n",
      "18  -0.173390  0.699560       1\n",
      "19  -0.478690  0.633770       1\n",
      "20  -0.605410  0.597220       1\n",
      "21  -0.628460  0.334060       1\n",
      "22  -0.593890  0.005117       1\n",
      "23  -0.421080 -0.272660       1\n",
      "24  -0.115780 -0.396930       1\n",
      "25   0.201040 -0.601610       1\n",
      "26   0.466010 -0.535820       1\n",
      "27   0.673390 -0.535820       1\n",
      "28  -0.138820  0.546050       1\n",
      "29  -0.294350  0.779970       1\n",
      "..        ...       ...     ...\n",
      "88  -0.403800  0.706870       0\n",
      "89  -0.380760  0.918860       0\n",
      "90  -0.507490  0.904240       0\n",
      "91  -0.547810  0.706870       0\n",
      "92   0.103110  0.779970       0\n",
      "93   0.057028  0.918860       0\n",
      "94  -0.104260  0.991960       0\n",
      "95  -0.081221  1.108900       0\n",
      "96   0.287440  1.087000       0\n",
      "97   0.396890  0.823830       0\n",
      "98   0.638820  0.889620       0\n",
      "99   0.823160  0.663010       0\n",
      "100  0.673390  0.641080       0\n",
      "101  1.070900  0.100150       0\n",
      "102 -0.046659 -0.579680       0\n",
      "103 -0.236750 -0.638160       0\n",
      "104 -0.150350 -0.367690       0\n",
      "105 -0.490210 -0.301900       0\n",
      "106 -0.467170 -0.133770       0\n",
      "107 -0.288590 -0.060673       0\n",
      "108 -0.611180 -0.067982       0\n",
      "109 -0.663020 -0.214180       0\n",
      "110 -0.599650 -0.418860       0\n",
      "111 -0.726380 -0.082602       0\n",
      "112 -0.830070  0.312130       0\n",
      "113 -0.720620  0.538740       0\n",
      "114 -0.593890  0.494880       0\n",
      "115 -0.484450  0.999270       0\n",
      "116 -0.006336  0.999270       0\n",
      "117  0.632650 -0.030612       0\n",
      "\n",
      "[118 rows x 3 columns]\n"
     ]
    }
   ],
   "source": [
    "import numpy as np\n",
    "import os\n",
    "\n",
    "#(test1),(test2),(QA 통과여부)\n",
    "import pandas as pd\n",
    "data= pd.read_csv(os.path.join('data', 'qa.txt'), names=['t1', 't2', 'Passed'])\n",
    "print data\n",
    "\n",
    "X= np.c_[data['t1'], data['t2']] #점수\n",
    "y= data[\"Passed\"] #합격여부(1: passed, 0: failed)\n",
    "m= len(data) "
   ]
  },
  {
   "cell_type": "code",
   "execution_count": 15,
   "id": "5f0fe50e",
   "metadata": {},
   "outputs": [
    {
     "name": "stdout",
     "output_type": "stream",
     "text": [
      "(118, 2) (118,)\n"
     ]
    }
   ],
   "source": [
    "#numpy array 형태로 변환 (m) -> (m, 1)\n",
    "#X= (np.array(X)).reshape(m, 2)\n",
    "#y= (np.array(y)).reshape(m, 1)\n",
    "print X.shape, y.shape"
   ]
  },
  {
   "cell_type": "markdown",
   "id": "0b3d6736",
   "metadata": {},
   "source": [
    "### 2-2 그래프 그리기"
   ]
  },
  {
   "cell_type": "code",
   "execution_count": 16,
   "id": "c125d44a",
   "metadata": {},
   "outputs": [
    {
     "name": "stdout",
     "output_type": "stream",
     "text": [
      "[0, 1, 2, 3, 4, 5, 6, 7, 8, 9, 10, 11, 12, 13, 14, 15, 16, 17, 18, 19, 20, 21, 22, 23, 24, 25, 26, 27, 28, 29, 30, 31, 32, 33, 34, 35, 36, 37, 38, 39, 40, 41, 42, 43, 44, 45, 46, 47, 48, 49, 50, 51, 52, 53, 54, 55, 56, 57]\n",
      "[58, 59, 60, 61, 62, 63, 64, 65, 66, 67, 68, 69, 70, 71, 72, 73, 74, 75, 76, 77, 78, 79, 80, 81, 82, 83, 84, 85, 86, 87, 88, 89, 90, 91, 92, 93, 94, 95, 96, 97, 98, 99, 100, 101, 102, 103, 104, 105, 106, 107, 108, 109, 110, 111, 112, 113, 114, 115, 116, 117]\n"
     ]
    }
   ],
   "source": [
    "#passed, failed데이터 인덱스 찾기\n",
    "pos=[]\n",
    "neg=[]\n",
    "\n",
    "for i, val in enumerate(y):\n",
    "    if val==1:\n",
    "        pos.append(i)\n",
    "    else:\n",
    "        neg.append(i)\n",
    "print pos\n",
    "print neg"
   ]
  },
  {
   "cell_type": "code",
   "execution_count": 17,
   "id": "94394a8e",
   "metadata": {},
   "outputs": [
    {
     "data": {
      "image/png": "[encoded data removed]",
      "text/plain": [
       "<Figure size 432x288 with 1 Axes>"
      ]
     },
     "metadata": {
      "needs_background": "light"
     },
     "output_type": "display_data"
    }
   ],
   "source": [
    "import matplotlib.pyplot as plt\n",
    "\n",
    "# X[:,1].reshape(-1): 한 줄로 피기 (m, ) -> (m)\n",
    "plt.plot(X[pos,0].reshape(-1), X[pos,1].reshape(-1), 'b+', label='Passed')\n",
    "plt.plot(X[neg,0].reshape(-1), X[neg,1].reshape(-1), 'ro', label='Failed')\n",
    "plt.xlabel(\"Microchip Test 1\")\n",
    "plt.ylabel(\"Microchip Test 1\")\n",
    "plt.legend(loc= 'upper right')\n",
    "plt.show()"
   ]
  },
  {
   "cell_type": "markdown",
   "id": "b05689a4",
   "metadata": {},
   "source": [
    "### 2-3 학습"
   ]
  },
  {
   "cell_type": "code",
   "execution_count": 20,
   "id": "d7f95579",
   "metadata": {},
   "outputs": [
    {
     "name": "stdout",
     "output_type": "stream",
     "text": [
      "[0.051267 0.69956 ]\n",
      "[5.12670000e-02 6.99560000e-01 2.62830529e-03 3.58643425e-02\n",
      " 4.89384194e-01 1.34745327e-04 1.83865725e-03 2.50892595e-02\n",
      " 3.42353606e-01 6.90798869e-06 9.42624411e-05 1.28625106e-03\n",
      " 1.75514423e-02 2.39496889e-01 3.54151856e-07 4.83255257e-06\n",
      " 6.59422333e-05 8.99809795e-04 1.22782870e-02 1.67542444e-01\n",
      " 1.81563032e-08 2.47750473e-07 3.38066048e-06 4.61305487e-05\n",
      " 6.29470940e-04 8.58939846e-03 1.17205992e-01]\n",
      "(27,)\n"
     ]
    }
   ],
   "source": [
    "# X_poly= mapFeature(X[:, 0], X[: ,1])\n",
    "from sklearn.preprocessing import PolynomialFeatures\n",
    "degree= 6 #차수\n",
    "poly_features= PolynomialFeatures(degree= degree, include_bias= False)\n",
    "X_poly= poly_features.fit_transform(X)\n",
    "\n",
    "print X[0]\n",
    "print X_poly[0]\n",
    "print X_poly[0].shape"
   ]
  },
  {
   "cell_type": "code",
   "execution_count": 24,
   "id": "4373531c",
   "metadata": {},
   "outputs": [
    {
     "data": {
      "text/plain": [
       "LogisticRegression(C=1, class_weight=None, dual=False, fit_intercept=True,\n",
       "          intercept_scaling=1, max_iter=100, multi_class='warn',\n",
       "          n_jobs=None, penalty='l2', random_state=None, solver='liblinear',\n",
       "          tol=0.0001, verbose=0, warm_start=False)"
      ]
     },
     "execution_count": 24,
     "metadata": {},
     "output_type": "execute_result"
    }
   ],
   "source": [
    "from sklearn.linear_model import LogisticRegression\n",
    "\n",
    "log_reg= LogisticRegression(penalty='l2', solver='liblinear', C=1)\n",
    "log_reg.fit(X_poly, y)"
   ]
  },
  {
   "cell_type": "markdown",
   "id": "1318b7ce",
   "metadata": {},
   "source": [
    "### 2-4 decision boundary"
   ]
  },
  {
   "cell_type": "code",
   "execution_count": 25,
   "id": "bec39697",
   "metadata": {},
   "outputs": [
    {
     "data": {
      "image/png": "[encoded data removed]",
      "text/plain": [
       "<Figure size 432x288 with 1 Axes>"
      ]
     },
     "metadata": {
      "needs_background": "light"
     },
     "output_type": "display_data"
    }
   ],
   "source": [
    "u= np.linspace(-1, 1.5, 300)\n",
    "v= np.linspace(-1, 1.5, 300) # (-1 ~ 1.5) 사이의 원소를 300개 생성(-1에서부터 1.5까지 점점 늘어나도록)\n",
    "z= np.zeros((len(u), len(v)))\n",
    "\n",
    "for i in range(len(u)):\n",
    "    a=[]\n",
    "    for j in range(len(v)):\n",
    "        a.append(np.array([u[i], v[j]]))\n",
    "        \n",
    "    my_data= poly_features.fit_transform(a)\n",
    "    z[i]= log_reg.predict(my_data)\n",
    "\n",
    "plt.contour(u, v, z, 0)\n",
    "\n",
    "plt.plot(X[pos,0].reshape(-1), X[pos,1].reshape(-1), 'b+', label='Passed')\n",
    "plt.plot(X[neg,0].reshape(-1), X[neg,1].reshape(-1), 'ro', label='Failed')\n",
    "plt.xlabel(\"Microchip Test 1\")\n",
    "plt.ylabel(\"Microchip Test 2\")\n",
    "plt.legend(loc= 'upper right')\n",
    "plt.show()"
   ]
  },
  {
   "cell_type": "markdown",
   "id": "075a1dae",
   "metadata": {},
   "source": [
    "### 2-5 로지스틱 회귀의 성능 측정법"
   ]
  },
  {
   "cell_type": "code",
   "execution_count": 28,
   "id": "387d86a3",
   "metadata": {},
   "outputs": [
    {
     "name": "stdout",
     "output_type": "stream",
     "text": [
      " [1 1 1 1 1 1 1 1 1 1 1 1 1 0 1 1 1 1 1 1 1 1 0 1 1 0 1 0 1 1 0 1 1 1 1 1 1\n",
      " 1 1 1 1 1 1 1 1 1 0 1 1 1 1 1 1 1 1 1 1 1 0 1 1 0 0 0 0 0 0 0 0 0 0 0 0 0\n",
      " 0 0 1 1 0 0 1 1 0 1 0 0 0 0 1 0 0 1 1 0 0 0 0 0 0 0 0 0 0 0 1 0 1 1 0 0 0\n",
      " 0 0 0 1 0 0 1]\n",
      "[[45 15]\n",
      " [ 6 52]]\n"
     ]
    },
    {
     "data": {
      "image/png": "[encoded data removed]",
      "text/plain": [
       "<Figure size 288x288 with 1 Axes>"
      ]
     },
     "metadata": {
      "needs_background": "light"
     },
     "output_type": "display_data"
    },
    {
     "name": "stdout",
     "output_type": "stream",
     "text": [
      "precision_score:  0.7761194029850746\n",
      "recall_score:  0.896551724137931\n",
      "F1 score:  0.8320000000000001\n"
     ]
    }
   ],
   "source": [
    "# 1. y값 prediction\n",
    "y_pred= log_reg.predict(X_poly)\n",
    "print y_pred\n",
    "\n",
    "# 2. confusion matrix\n",
    "from sklearn.metrics import confusion_matrix\n",
    "conf_mat= confusion_matrix(y, y_pred)\n",
    "print conf_mat\n",
    "plt.matshow(conf_mat, cmap= plt.cm.gray)\n",
    "plt.show()\n",
    "\n",
    "# 3. precision & recall\n",
    "from sklearn.metrics import precision_score, recall_score\n",
    "print \"precision_score: \", precision_score(y, y_pred) # 42/(42+14)\n",
    "print \"recall_score: \", recall_score(y, y_pred) # 42/(42+16)\n",
    "\n",
    "# 4. F1 score\n",
    "from sklearn.metrics import f1_score\n",
    "print \"F1 score: \", f1_score(y, y_pred)"
   ]
  },
  {
   "cell_type": "code",
   "execution_count": 29,
   "id": "ddade937",
   "metadata": {
    "scrolled": true
   },
   "outputs": [
    {
     "name": "stdout",
     "output_type": "stream",
     "text": [
      "[ 7.84524512e-01  8.78133048e-01  7.97601469e-01  9.26602186e-01\n",
      "  5.71276595e-01  4.35837395e-01  6.09885890e-01  4.49503156e-01\n",
      "  4.59245815e-01  2.49461094e-01  8.39935850e-02  2.49622268e-02\n",
      "  2.62821156e-01 -1.23905907e-01  4.72739157e-01  8.44214222e-01\n",
      "  1.15736196e+00  2.17110451e-01  7.99337944e-01  4.79239292e-01\n",
      "  7.13542909e-02  8.78985642e-02 -9.83642886e-02  2.50988298e-06\n",
      "  3.30355504e-01 -4.52590800e-03  8.94209834e-02 -4.42071582e-01\n",
      "  1.18683343e+00  3.41292940e-01 -1.12084385e+00  3.18469526e-01\n",
      "  9.60254654e-01  1.10872760e+00  9.61456926e-01  8.15132347e-01\n",
      "  5.39650147e-01  8.26536077e-01  9.57532339e-01  5.42427923e-01\n",
      "  8.76615306e-01  7.43560764e-01  3.50201631e-01  9.63885280e-01\n",
      "  5.23722869e-01  6.74639746e-01 -3.47694629e-01  1.12705160e+00\n",
      "  2.06000696e-01  4.33237745e-01  1.10619148e+00  1.35536714e+00\n",
      "  1.19778129e+00  1.22663801e+00  1.12629740e+00  7.14094191e-01\n",
      "  8.92325949e-01  5.75981792e-01 -1.15908505e+00  1.44638773e-01\n",
      "  7.74949912e-01 -5.59290475e-01 -9.15632097e-01 -1.30850427e-01\n",
      " -8.24578351e-01 -2.12158103e+00 -7.97993051e-01 -2.17146759e+00\n",
      " -1.82802654e+00 -1.00263719e+00 -1.42079239e+00 -1.17304591e+00\n",
      " -1.31233987e+00 -1.16032847e+00 -9.55411199e-01 -1.76257661e-01\n",
      "  3.83685821e-01  5.78576770e-02 -7.38630986e-01 -7.39374904e-01\n",
      "  5.14067652e-02  1.73547678e-01 -3.09712504e-01  1.11906986e-01\n",
      " -1.45620408e+00 -5.83762257e-01 -6.99984785e-01 -6.46579086e-01\n",
      "  4.67965591e-01 -7.99236873e-01 -9.87295811e-01  3.69298021e-02\n",
      "  3.30756468e-01 -7.58819658e-01 -1.48350123e+00 -3.51378851e+00\n",
      " -4.01907644e+00 -6.49587973e-01 -2.63644853e+00 -2.16204020e+00\n",
      " -7.40473323e-01 -4.06440642e+00 -1.16021071e-01 -6.47748597e-01\n",
      "  3.52090342e-01 -2.86531907e-01  1.42310209e-01  7.10229922e-01\n",
      " -2.98151034e-01 -8.50336247e-01 -1.04311862e+00 -9.71356738e-01\n",
      " -1.30667180e+00 -4.95586343e-01  2.41719842e-01 -1.96339446e+00\n",
      " -1.67929557e+00  4.72472406e-01]\n"
     ]
    }
   ],
   "source": [
    "# y probability\n",
    "y_scores= log_reg.decision_function(X_poly)\n",
    "print y_scores"
   ]
  },
  {
   "cell_type": "code",
   "execution_count": 30,
   "id": "ccfe685a",
   "metadata": {},
   "outputs": [
    {
     "data": {
      "image/png": "[encoded data removed]",
      "text/plain": [
       "<Figure size 432x288 with 1 Axes>"
      ]
     },
     "metadata": {
      "needs_background": "light"
     },
     "output_type": "display_data"
    },
    {
     "name": "stdout",
     "output_type": "stream",
     "text": [
      "roc_auc_score 0.9137931034482759\n"
     ]
    }
   ],
   "source": [
    "# 5. ROC curve\n",
    "from sklearn.metrics import roc_curve\n",
    "fpr, tpr, thresholds= roc_curve(y, y_scores)\n",
    "\n",
    "def plot_roc_curve(fpr, tpr, label=None):\n",
    "    plt.plot(fpr, tpr, linewidth=2, label=label)\n",
    "    plt.plot([0,1], [0,1], 'k--')\n",
    "    plt.axis([0,1,0,1])\n",
    "    plt.xlabel('FPR')\n",
    "    plt.ylabel('TPR')\n",
    "plot_roc_curve(fpr, tpr)\n",
    "plt.show()\n",
    "\n",
    "# 6. AUC\n",
    "from sklearn.metrics import roc_auc_score\n",
    "print \"roc_auc_score\", roc_auc_score(y, y_scores)"
   ]
  },
  {
   "cell_type": "code",
   "execution_count": null,
   "id": "a567e6a7",
   "metadata": {},
   "outputs": [],
   "source": []
  }
 ],
 "metadata": {
  "kernelspec": {
   "display_name": "conda_pytorch_p27",
   "language": "python",
   "name": "conda_pytorch_p27"
  },
  "language_info": {
   "codemirror_mode": {
    "name": "ipython",
    "version": 2
   },
   "file_extension": ".py",
   "mimetype": "text/x-python",
   "name": "python",
   "nbconvert_exporter": "python",
   "pygments_lexer": "ipython2",
   "version": "2.7.16"
  }
 },
 "nbformat": 4,
 "nbformat_minor": 5
}
